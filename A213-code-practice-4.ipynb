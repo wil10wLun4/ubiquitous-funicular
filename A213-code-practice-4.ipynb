{
 "cells": [
  {
   "cell_type": "markdown",
   "metadata": {},
   "source": [
    "# A2.13 - Code Practice IV\n",
    ">\n",
    "> Review: `if` Statements\n",
    ">\n",
    "> Review: `for` Loops\n",
    ">\n",
    "> Review: `while` Loops"
   ]
  },
  {
   "cell_type": "code",
   "execution_count": 1,
   "metadata": {},
   "outputs": [
    {
     "name": "stdout",
     "output_type": "stream",
     "text": [
      "ITS ODD!\n"
     ]
    }
   ],
   "source": [
    "# Use `if` statement to find even and odd numbers\n",
    "num = 5\n",
    "\n",
    "if num % 2 == 1:\n",
    "    print(\"ITS ODD!\")\n",
    "elif num % 2 == 0:\n",
    "    print(\"ITS EVEN!\")"
   ]
  },
  {
   "cell_type": "code",
   "execution_count": 2,
   "metadata": {},
   "outputs": [
    {
     "name": "stdout",
     "output_type": "stream",
     "text": [
      "willow chool chat\n"
     ]
    }
   ],
   "source": [
    "# Use `for` loop and `if` statement to find the correct name from a list of names\n",
    "names = [\"jay the gay\", \"willow chool chat\", \"aniela\"]\n",
    "\n",
    "for i in names:\n",
    "    if i == \"willow chool chat\":\n",
    "        print(i)\n",
    "        break"
   ]
  },
  {
   "cell_type": "code",
   "execution_count": 3,
   "metadata": {},
   "outputs": [
    {
     "name": "stdout",
     "output_type": "stream",
     "text": [
      "jay the gay\n",
      "no name worked :(\n",
      "no name worked :(\n"
     ]
    }
   ],
   "source": [
    "# Use `for` loop and `if` statement to find the correct length of name from a \\\n",
    "# list of names\n",
    "for i in names:\n",
    "    if len(i) == 11:\n",
    "        print(i)\n",
    "    else:\n",
    "        print(\"no name worked :(\")\n"
   ]
  },
  {
   "cell_type": "code",
   "execution_count": 4,
   "metadata": {},
   "outputs": [
    {
     "name": "stdout",
     "output_type": "stream",
     "text": [
      "jay is gay\n",
      "jay is gay\n",
      "jay is gay\n",
      "jay is gay\n",
      "jay is gay\n",
      "jay is gay\n",
      "jay is gay\n",
      "jay is gay\n",
      "jay is gay\n",
      "jay is gay\n"
     ]
    }
   ],
   "source": [
    "# Use `for` loop to print a statement 10 times\n",
    "for i in range(10):\n",
    "    print(\"jay is gay\")"
   ]
  },
  {
   "cell_type": "code",
   "execution_count": 12,
   "metadata": {},
   "outputs": [
    {
     "name": "stdout",
     "output_type": "stream",
     "text": [
      "chool chat\n",
      "willow\n",
      "is chool\n"
     ]
    }
   ],
   "source": [
    "# Use `for` loop to print the values of a dictionary\n",
    "# The dictionary should be at least 3 key-value pairs\n",
    "dct = {\"key1\": \"chool chat\", \"key2\": \"willow\", \"key3\": \"is chool\"}\n",
    "\n",
    "for i in dct:\n",
    "    print(dct[i])"
   ]
  },
  {
   "cell_type": "code",
   "execution_count": 16,
   "metadata": {},
   "outputs": [
    {
     "name": "stdout",
     "output_type": "stream",
     "text": [
      "purple\n",
      "blue\n",
      "pink\n"
     ]
    }
   ],
   "source": [
    "# Use `while` loop that asks for user input three times and then prints it out\n",
    "willowiscool = True\n",
    "count = 0\n",
    "favcolors = {}\n",
    "while willowiscool:\n",
    "    count += 1\n",
    "    if count >= 3:\n",
    "        willowiscool = False\n",
    "    favcolors[count] = input(\"What is your favorite color?: \")\n",
    "for i in favcolors:\n",
    "    print(favcolors[i])"
   ]
  }
 ],
 "metadata": {
  "kernelspec": {
   "display_name": "Python 3.9.12 ('base')",
   "language": "python",
   "name": "python3"
  },
  "language_info": {
   "codemirror_mode": {
    "name": "ipython",
    "version": 3
   },
   "file_extension": ".py",
   "mimetype": "text/x-python",
   "name": "python",
   "nbconvert_exporter": "python",
   "pygments_lexer": "ipython3",
   "version": "3.9.12"
  },
  "orig_nbformat": 4,
  "vscode": {
   "interpreter": {
    "hash": "99e0d39f7d3dbaf5b200d88aa2439617bbbdbaddd49696b359fe65b8094f80ec"
   }
  }
 },
 "nbformat": 4,
 "nbformat_minor": 2
}
