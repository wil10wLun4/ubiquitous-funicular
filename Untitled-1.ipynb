{
 "cells": [
  {
   "cell_type": "code",
   "execution_count": 39,
   "metadata": {},
   "outputs": [],
   "source": [
    "board = {\"1\": \"1\", \"2\": \"2\", \"3\": \"3\", \"4\": \"4\", \"5\": \"5\", \"6\": \"6\", \"7\": \"7\", \"8\": \"8\", \"9\": \"9\"}"
   ]
  },
  {
   "cell_type": "code",
   "execution_count": 36,
   "metadata": {},
   "outputs": [],
   "source": [
    "aloud = [\"1\", \"2\", \"3\", \"4\", \"5\", \"6\", \"7\", \"8\", \"9\"]"
   ]
  },
  {
   "cell_type": "code",
   "execution_count": 6,
   "metadata": {},
   "outputs": [],
   "source": [
    "def showBoard():\n",
    "    print(board[\"1\"] + \"|\" + board[\"2\"] + \"|\" + board[\"3\"])\n",
    "    print(\"-----\")\n",
    "    print(board[\"4\"] + \"|\" + board[\"5\"] + \"|\" + board[\"6\"])\n",
    "    print(\"-----\")\n",
    "    print(board[\"7\"] + \"|\" + board[\"8\"] + \"|\" + board[\"9\"])"
   ]
  },
  {
   "cell_type": "code",
   "execution_count": 38,
   "metadata": {},
   "outputs": [
    {
     "name": "stdout",
     "output_type": "stream",
     "text": [
      "1|2|3\n",
      "-----\n",
      "4|5|x\n",
      "-----\n",
      "7|8|9\n"
     ]
    }
   ],
   "source": [
    "player1turn = True\n",
    "\n",
    "aloudBool = True\n",
    "\n",
    "showBoard()\n",
    "\n",
    "while aloudBool:\n",
    "    spot = input(\"Where do you want to go?: (1-9)\")\n",
    "    if spot in aloud:\n",
    "        aloudBool = False\n",
    "        if player1turn:\n",
    "            if spot == \"1\":\n",
    "                board[\"1\"] = 'x'\n",
    "            elif spot == \"2\":\n",
    "                board[\"2\"] = 'x'\n",
    "            elif spot == \"3\":\n",
    "                board[\"3\"] = 'x'\n",
    "            elif spot == \"4\":\n",
    "                board[\"4\"] = 'x'\n",
    "            elif spot == \"5\":\n",
    "                board[\"5\"] = 'x'\n",
    "            elif spot == \"6\":\n",
    "                board[\"6\"] = 'x'\n",
    "            elif spot == \"7\":\n",
    "                board[\"7\"] = 'x'\n",
    "            elif spot == \"8\":\n",
    "                board[\"8\"] = 'x'\n",
    "            elif spot == \"9\":\n",
    "                board[\"9\"] = 'x'\n",
    "            player1turn = False\n",
    "        else:\n",
    "            if spot == \"1\":\n",
    "                board[\"1\"] = 'o'\n",
    "            elif spot == \"2\":\n",
    "                board[\"2\"] = 'o'\n",
    "            elif spot == \"3\":\n",
    "                board[\"3\"] = 'o'\n",
    "            elif spot == \"4\":\n",
    "                board[\"4\"] = 'o'\n",
    "            elif spot == \"5\":\n",
    "                board[\"5\"] = 'o'\n",
    "            elif spot == \"6\":\n",
    "                board[\"6\"] = 'o'\n",
    "            elif spot == \"7\":\n",
    "                board[\"7\"] = 'o'\n",
    "            elif spot == \"8\":\n",
    "                board[\"8\"] = 'o'\n",
    "            elif spot == \"9\":\n",
    "                board[\"9\"] = 'o'\n",
    "            player1turn = True\n",
    "    else:\n",
    "        print(\"That was not a number from 1 to 9, please try again\")\n",
    "        pass\n",
    "showBoard()\n",
    "\n"
   ]
  },
  {
   "cell_type": "code",
   "execution_count": 32,
   "metadata": {},
   "outputs": [
    {
     "data": {
      "text/plain": [
       "{'1': ' ',\n",
       " '2': ' ',\n",
       " '3': ' ',\n",
       " '4': ' ',\n",
       " '5': ' ',\n",
       " '6': ' ',\n",
       " '7': ' ',\n",
       " '8': ' ',\n",
       " '9': ' '}"
      ]
     },
     "execution_count": 32,
     "metadata": {},
     "output_type": "execute_result"
    }
   ],
   "source": [
    "board"
   ]
  }
 ],
 "metadata": {
  "kernelspec": {
   "display_name": "Python 3.9.12 ('base')",
   "language": "python",
   "name": "python3"
  },
  "language_info": {
   "codemirror_mode": {
    "name": "ipython",
    "version": 3
   },
   "file_extension": ".py",
   "mimetype": "text/x-python",
   "name": "python",
   "nbconvert_exporter": "python",
   "pygments_lexer": "ipython3",
   "version": "3.9.12"
  },
  "orig_nbformat": 4,
  "vscode": {
   "interpreter": {
    "hash": "99e0d39f7d3dbaf5b200d88aa2439617bbbdbaddd49696b359fe65b8094f80ec"
   }
  }
 },
 "nbformat": 4,
 "nbformat_minor": 2
}
