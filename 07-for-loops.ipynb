{
 "cells": [
  {
   "cell_type": "markdown",
   "metadata": {},
   "source": [
    "# 07 - For Loops\n",
    "> From W3Schools:\n",
    ">\n",
    "> \"A `for` loop is used for iterating over a sequence (that is either a list, a tuple, a dictionary, a set, or a string).\n",
    ">\n",
    "> With the for loop we can execute a set of statements, once for each item in a list, tuple, set etc.\""
   ]
  },
  {
   "cell_type": "markdown",
   "metadata": {},
   "source": [
    "### Video and Notes:\n",
    "> Video: https://www.youtube.com/watch?v=dHANJ4l6fwA\n",
    ">\n",
    "> Notes: https://www.w3schools.com/python/python_for_loops.asp"
   ]
  },
  {
   "cell_type": "markdown",
   "metadata": {},
   "source": [
    "## To Complete Your Notes:\n",
    "1. Watch the video.\n",
    "2. Review the Notes above.\n",
    "3. Copy the `for` loops from W3Schools below\n",
    "4. Create your own `for` loops below"
   ]
  },
  {
   "cell_type": "markdown",
   "metadata": {},
   "source": [
    "### 3. Copy the `for` loops from W3Schools below"
   ]
  },
  {
   "cell_type": "code",
   "execution_count": 1,
   "metadata": {},
   "outputs": [
    {
     "name": "stdout",
     "output_type": "stream",
     "text": [
      "apple\n",
      "banana\n",
      "cherry\n"
     ]
    }
   ],
   "source": [
    "# Loop through a list\n",
    "fruits = [\"apple\", \"banana\", \"cherry\"]\n",
    "for x in fruits:\n",
    "    print(x)"
   ]
  },
  {
   "cell_type": "code",
   "execution_count": 2,
   "metadata": {},
   "outputs": [
    {
     "name": "stdout",
     "output_type": "stream",
     "text": [
      "w\n",
      "i\n",
      "l\n",
      "l\n",
      "o\n",
      "w\n"
     ]
    }
   ],
   "source": [
    "# Loop through a string\n",
    "for x in \"willow\":\n",
    "    print(x)"
   ]
  },
  {
   "cell_type": "code",
   "execution_count": 3,
   "metadata": {},
   "outputs": [
    {
     "name": "stdout",
     "output_type": "stream",
     "text": [
      "apple\n",
      "banana\n"
     ]
    }
   ],
   "source": [
    "# Use the break statement\n",
    "for x in fruits:\n",
    "    print(x)\n",
    "    if x == \"banana\":\n",
    "        break"
   ]
  },
  {
   "cell_type": "code",
   "execution_count": 4,
   "metadata": {},
   "outputs": [
    {
     "name": "stdout",
     "output_type": "stream",
     "text": [
      "apple\n",
      "cherry\n"
     ]
    }
   ],
   "source": [
    "# Use the continue statement\n",
    "for x in fruits:\n",
    "    if x == \"banana\":\n",
    "        continue\n",
    "    print(x)"
   ]
  },
  {
   "cell_type": "code",
   "execution_count": 6,
   "metadata": {},
   "outputs": [
    {
     "name": "stdout",
     "output_type": "stream",
     "text": [
      "0\n",
      "1\n",
      "2\n",
      "3\n",
      "4\n",
      "5\n",
      "6\n"
     ]
    }
   ],
   "source": [
    "# Use the range function to loop through\n",
    "for x in range(7):\n",
    "    print(x)"
   ]
  },
  {
   "cell_type": "code",
   "execution_count": 7,
   "metadata": {},
   "outputs": [
    {
     "name": "stdout",
     "output_type": "stream",
     "text": [
      "0\n",
      "1\n",
      "2\n",
      "3\n",
      "4\n",
      "5\n",
      "6\n",
      "done\n"
     ]
    }
   ],
   "source": [
    "# Use else at the end of a loop\n",
    "for x in range(7):\n",
    "    print(x)\n",
    "else:\n",
    "    print(\"done\")"
   ]
  },
  {
   "cell_type": "code",
   "execution_count": 9,
   "metadata": {},
   "outputs": [
    {
     "name": "stdout",
     "output_type": "stream",
     "text": [
      "apple cool\n",
      "apple pog\n",
      "apple awsome\n",
      "banana cool\n",
      "banana pog\n",
      "banana awsome\n",
      "cherry cool\n",
      "cherry pog\n",
      "cherry awsome\n"
     ]
    }
   ],
   "source": [
    "# Loop through two lists using Nested Loops\n",
    "willow = [\"cool\", \"pog\", \"awsome\"]\n",
    "for x in fruits:\n",
    "    for i in willow:\n",
    "        print(x, i)"
   ]
  },
  {
   "cell_type": "code",
   "execution_count": 11,
   "metadata": {},
   "outputs": [],
   "source": [
    "# Use the pass statement\n",
    "for x in [0, 1 , 2]:\n",
    "    pass"
   ]
  },
  {
   "cell_type": "markdown",
   "metadata": {},
   "source": [
    "### 4. Create your own `for` loops below.\n",
    "> Please create your own `for` loops.\n",
    ">\n",
    "> Please create at least three different loops.\n",
    ">\n",
    "> Try and use different techniques from this lesson and the lessons before."
   ]
  },
  {
   "cell_type": "code",
   "execution_count": 12,
   "metadata": {},
   "outputs": [
    {
     "name": "stdout",
     "output_type": "stream",
     "text": [
      "t\n",
      "h\n",
      "e\n",
      " \n",
      "b\n",
      "we have found the b!\n"
     ]
    }
   ],
   "source": [
    "# Example Loop\n",
    "eric = \"the best guide in the world\"\n",
    "\n",
    "erics_bool = False\n",
    "\n",
    "for x in eric:\n",
    "    if x == 'b':\n",
    "        erics_bool = True\n",
    "    print(x)\n",
    "    if erics_bool:\n",
    "        print(\"we have found the b!\")\n",
    "        break"
   ]
  },
  {
   "cell_type": "code",
   "execution_count": 16,
   "metadata": {},
   "outputs": [
    {
     "name": "stdout",
     "output_type": "stream",
     "text": [
      "SSSSSSSSSSSSSS\n",
      "s\n",
      "u\n",
      "SSSSSSSSSSSSSS\n",
      "s\n"
     ]
    }
   ],
   "source": [
    "# First Loop\n",
    "amongus = \"sus\"\n",
    "\n",
    "for i in amongus:\n",
    "    if i == \"s\":\n",
    "        print(\"SSSSSSSSSSSSSS\")\n",
    "    print(i)"
   ]
  },
  {
   "cell_type": "code",
   "execution_count": 18,
   "metadata": {},
   "outputs": [
    {
     "name": "stdout",
     "output_type": "stream",
     "text": [
      "slay\n",
      "swag\n",
      "cool 8)\n",
      "thats true :0\n"
     ]
    }
   ],
   "source": [
    "# Second Loop\n",
    "aniela = [\"slay\", \"swag\", \"cool 8)\"]\n",
    "\n",
    "aniela_cool = True\n",
    "\n",
    "for i in aniela:\n",
    "    print(i)\n",
    "    if i == \"cool 8)\":\n",
    "        if aniela_cool:\n",
    "            print(\"thats true :0\")\n"
   ]
  },
  {
   "cell_type": "code",
   "execution_count": 23,
   "metadata": {},
   "outputs": [
    {
     "name": "stdout",
     "output_type": "stream",
     "text": [
      "c thats a letter!\n",
      "o thats a letter!\n",
      "d thats a letter!\n",
      "i thats a letter!\n",
      "n thats a letter!\n",
      "g thats a letter!\n"
     ]
    }
   ],
   "source": [
    "# Third Loop\n",
    "class_var = \"coding\"\n",
    "\n",
    "for i in class_var:\n",
    "    print(i + \" thats a letter!\")"
   ]
  },
  {
   "cell_type": "code",
   "execution_count": 43,
   "metadata": {},
   "outputs": [
    {
     "name": "stdout",
     "output_type": "stream",
     "text": [
      "Se\n",
      "S * E.lAlsqzbsEsq\n",
      "e\n",
      "Ee\n",
      "e * E.lAlsqzbsEsq\n",
      "Ce\n",
      "c * E.lAlsqzbsEsq\n",
      "Re\n",
      "r * E.lAlsqzbsEsq\n",
      "e\n",
      "Ee\n",
      "e * E.lAlsqzbsEsq\n",
      "Te\n",
      "t * E.lAlsqzbsEsq\n",
      " e\n",
      "  * E.lAlsqzbsEsq\n",
      "Be\n",
      "b * E.lAlsqzbsEsq\n",
      "Le\n",
      "l * E.lAlsqzbsEsq\n",
      "Ue\n",
      "u * E.lAlsqzbsEsq\n",
      "e\n",
      "Ee\n",
      "e * E.lAlsqzbsEsq\n",
      " e\n",
      "  * E.lAlsqzbsEsq\n",
      "Pe\n",
      "p * E.lAlsqzbsEsq\n",
      "Ue\n",
      "u * E.lAlsqzbsEsq\n",
      "Re\n",
      "r * E.lAlsqzbsEsq\n",
      "Pe\n",
      "p * E.lAlsqzbsEsq\n",
      "Le\n",
      "l * E.lAlsqzbsEsq\n",
      "e\n",
      "Ee\n",
      "e * E.lAlsqzbsEsq\n",
      " e\n",
      "  * E.lAlsqzbsEsq\n",
      "Pe\n",
      "p * E.lAlsqzbsEsq\n",
      "Ie\n",
      "i * E.lAlsqzbsEsq\n",
      "Ne\n",
      "n * E.lAlsqzbsEsq\n",
      "Ke\n",
      "k * E.lAlsqzbsEsq\n",
      " e\n",
      "  * E.lAlsqzbsEsq\n",
      "Ae\n",
      "a * E.lAlsqzbsEsq\n",
      "Ne\n",
      "n * E.lAlsqzbsEsq\n",
      "De\n",
      "d * E.lAlsqzbsEsq\n",
      " e\n",
      "  * E.lAlsqzbsEsq\n",
      "Ge\n",
      "g * E.lAlsqzbsEsq\n",
      "Re\n",
      "r * E.lAlsqzbsEsq\n",
      "e\n",
      "Ee\n",
      "e * E.lAlsqzbsEsq\n",
      "e\n",
      "Ee\n",
      "e * E.lAlsqzbsEsq\n",
      "Ne\n",
      "n * E.lAlsqzbsEsq\n",
      " e\n",
      "  * E.lAlsqzbsEsq\n",
      "Re\n",
      "r * E.lAlsqzbsEsq\n",
      "Ie\n",
      "i * E.lAlsqzbsEsq\n",
      "Ge\n",
      "g * E.lAlsqzbsEsq\n",
      "He\n",
      "h * E.lAlsqzbsEsq\n",
      "Te\n",
      "t * E.lAlsqzbsEsq\n",
      " e\n",
      "  * E.lAlsqzbsEsq\n",
      "Oe\n",
      "o * E.lAlsqzbsEsq\n",
      "Ve\n",
      "v * E.lAlsqzbsEsq\n",
      "e\n",
      "Ee\n",
      "e * E.lAlsqzbsEsq\n",
      "Re\n",
      "r * E.lAlsqzbsEsq\n",
      " e\n",
      "  * E.lAlsqzbsEsq\n",
      "Ie\n",
      "i * E.lAlsqzbsEsq\n",
      "Te\n",
      "t * E.lAlsqzbsEsq\n",
      ".e\n",
      ". * E.lAlsqzbsEsq\n",
      " e\n",
      "  * E.lAlsqzbsEsq\n",
      "He\n",
      "H * E.lAlsqzbsEsq\n",
      "Oe\n",
      "o * E.lAlsqzbsEsq\n",
      "Le\n",
      "l * E.lAlsqzbsEsq\n",
      "De\n",
      "d * E.lAlsqzbsEsq\n",
      " e\n",
      "  * E.lAlsqzbsEsq\n",
      "Oe\n",
      "o * E.lAlsqzbsEsq\n",
      "Ne\n",
      "n * E.lAlsqzbsEsq\n",
      " e\n",
      "  * E.lAlsqzbsEsq\n",
      "'e\n",
      "' * E.lAlsqzbsEsq\n",
      "Ce\n",
      "c * E.lAlsqzbsEsq\n",
      "Ae\n",
      "a * E.lAlsqzbsEsq\n",
      "Ue\n",
      "u * E.lAlsqzbsEsq\n",
      "Se\n",
      "s * E.lAlsqzbsEsq\n",
      "e\n",
      "Ee\n",
      "e * E.lAlsqzbsEsq\n",
      " e\n",
      "  * E.lAlsqzbsEsq\n",
      "Te\n",
      "t * E.lAlsqzbsEsq\n",
      "He\n",
      "h * E.lAlsqzbsEsq\n",
      "e\n",
      "Ee\n",
      "e * E.lAlsqzbsEsq\n",
      " e\n",
      "  * E.lAlsqzbsEsq\n",
      "Ce\n",
      "c * E.lAlsqzbsEsq\n",
      "Oe\n",
      "o * E.lAlsqzbsEsq\n",
      "Le\n",
      "l * E.lAlsqzbsEsq\n",
      "De\n",
      "d * E.lAlsqzbsEsq\n",
      "e\n",
      "Ee\n",
      "e * E.lAlsqzbsEsq\n",
      "Se\n",
      "s * E.lAlsqzbsEsq\n",
      "Te\n",
      "t * E.lAlsqzbsEsq\n",
      " e\n",
      "  * E.lAlsqzbsEsq\n",
      "He\n",
      "h * E.lAlsqzbsEsq\n",
      "Ae\n",
      "a * E.lAlsqzbsEsq\n",
      "Se\n",
      "s * E.lAlsqzbsEsq\n",
      "Ne\n",
      "n * E.lAlsqzbsEsq\n",
      "'e\n",
      "' * E.lAlsqzbsEsq\n",
      "Te\n",
      "t * E.lAlsqzbsEsq\n",
      " e\n",
      "  * E.lAlsqzbsEsq\n",
      "Te\n",
      "t * E.lAlsqzbsEsq\n",
      "He\n",
      "h * E.lAlsqzbsEsq\n",
      "Ae\n",
      "a * E.lAlsqzbsEsq\n",
      "We\n",
      "w * E.lAlsqzbsEsq\n",
      "e\n",
      "Ee\n",
      "e * E.lAlsqzbsEsq\n",
      "De\n",
      "d * E.lAlsqzbsEsq\n",
      " e\n",
      "  * E.lAlsqzbsEsq\n",
      "Ye\n",
      "y * E.lAlsqzbsEsq\n",
      "e\n",
      "Ee\n",
      "e * E.lAlsqzbsEsq\n",
      "Te\n",
      "t * E.lAlsqzbsEsq\n"
     ]
    }
   ],
   "source": [
    "\"\"\"For extra credit: try and create a for loop that takes the string below (A Yeah \n",
    "Yeah Yeahs lyric from Sweets) and alters it as much as possible in five lines or \n",
    "less of code. Long strings can be extended to the next line using \\ \"\"\"\n",
    "\n",
    "from tkinter import N\n",
    "\n",
    "\n",
    "extra = \"Secret blue purple pink and green right over it. Hold on 'cause the \\\n",
    "coldest hasn't thawed yet\"\n",
    "\n",
    "for i in extra:\n",
    "    if i == \"e\":\n",
    "        print(i)\n",
    "    print(i.upper() + \"e\")\n",
    "    print(i + \" * E.lAlsqzbsEsq\")"
   ]
  }
 ],
 "metadata": {
  "kernelspec": {
   "display_name": "Python 3.9.12 ('base')",
   "language": "python",
   "name": "python3"
  },
  "language_info": {
   "codemirror_mode": {
    "name": "ipython",
    "version": 3
   },
   "file_extension": ".py",
   "mimetype": "text/x-python",
   "name": "python",
   "nbconvert_exporter": "python",
   "pygments_lexer": "ipython3",
   "version": "3.9.12"
  },
  "orig_nbformat": 4,
  "vscode": {
   "interpreter": {
    "hash": "99e0d39f7d3dbaf5b200d88aa2439617bbbdbaddd49696b359fe65b8094f80ec"
   }
  }
 },
 "nbformat": 4,
 "nbformat_minor": 2
}
