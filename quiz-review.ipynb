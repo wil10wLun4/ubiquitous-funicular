{
 "cells": [
  {
   "cell_type": "markdown",
   "metadata": {},
   "source": [
    "# Quiz Review\n",
    ">\n",
    ">Data Types, Numbers, Strings, Lists, Dictionaries, and Booleans\n",
    ">"
   ]
  },
  {
   "cell_type": "markdown",
   "metadata": {},
   "source": [
    "## Data Types\n",
    "> What function can you use to find the type of an object?"
   ]
  },
  {
   "cell_type": "code",
   "execution_count": 1,
   "metadata": {},
   "outputs": [
    {
     "data": {
      "text/plain": [
       "int"
      ]
     },
     "execution_count": 1,
     "metadata": {},
     "output_type": "execute_result"
    }
   ],
   "source": [
    "## Write code here\n",
    "my_int = 1\n",
    "type(my_int)"
   ]
  },
  {
   "cell_type": "markdown",
   "metadata": {},
   "source": [
    "## Numbers\n",
    "> Create the following:"
   ]
  },
  {
   "cell_type": "code",
   "execution_count": 7,
   "metadata": {},
   "outputs": [
    {
     "data": {
      "text/plain": [
       "0.7199999999999998"
      ]
     },
     "execution_count": 7,
     "metadata": {},
     "output_type": "execute_result"
    }
   ],
   "source": [
    "# Create a variable 'numVar' to hold a number\n",
    "numVar = 7\n",
    "# Create a variable 'fltVar' to hold a float\n",
    "fltVar = 1.1\n",
    "# Change numVar to a float\n",
    "float(numVar)\n",
    "# Change fltVar to a number\n",
    "int(fltVar)\n",
    "# Multiply numVar by 10\n",
    "numVar * 10\n",
    "# Return the remainer of numVar divided by 3.14\n",
    "numVar % 3.14"
   ]
  },
  {
   "cell_type": "markdown",
   "metadata": {},
   "source": [
    "## Strings\n",
    "> Create the following:"
   ]
  },
  {
   "cell_type": "code",
   "execution_count": 10,
   "metadata": {},
   "outputs": [
    {
     "data": {
      "text/plain": [
       "['don', 't steal my code']"
      ]
     },
     "execution_count": 10,
     "metadata": {},
     "output_type": "execute_result"
    }
   ],
   "source": [
    "# Create a variable 'strVar' to hold a string that contains an apostrophe and spaces\n",
    "strVar = \"don't steal my code\"\n",
    "# Split this variable on the spaces\n",
    "strVar.split()\n",
    "# Split this variable on the apostrophe\n",
    "strVar.split(\"'\")"
   ]
  },
  {
   "cell_type": "markdown",
   "metadata": {},
   "source": [
    "## Lists\n",
    "> Create the following:"
   ]
  },
  {
   "cell_type": "code",
   "execution_count": 12,
   "metadata": {},
   "outputs": [
    {
     "data": {
      "text/plain": [
       "[9, 8, 7]"
      ]
     },
     "execution_count": 12,
     "metadata": {},
     "output_type": "execute_result"
    }
   ],
   "source": [
    "# Create a variable 'lstVar' to hold an empty list\n",
    "lstVar = []\n",
    "# Append to this list three number type objects\n",
    "lstVar.append(7)\n",
    "lstVar.append(8)\n",
    "lstVar.append(9)\n",
    "# Create a variable revlstVar to hold lstVar in reverse\n",
    "revlstVar = lstVar.reverse()"
   ]
  },
  {
   "cell_type": "markdown",
   "metadata": {},
   "source": [
    "## Dictionaries\n",
    "> Create the following:"
   ]
  },
  {
   "cell_type": "code",
   "execution_count": 14,
   "metadata": {},
   "outputs": [
    {
     "data": {
      "text/plain": [
       "\"DON'T STEAL MY CODE\""
      ]
     },
     "execution_count": 14,
     "metadata": {},
     "output_type": "execute_result"
    }
   ],
   "source": [
    "# Create a variable 'dctVar' to hold an empty dictionary\n",
    "dctVar = {}\n",
    "# Add each variable created above and set them each to their own keys\n",
    "dctVar = {\"key1\": my_int, \"key2\": numVar, \"key3\": fltVar, \"key4\": strVar}\n",
    "# Call the 'strVar' from inside the dictionary and call the Upper method on it\n",
    "dctVar[\"key4\"].upper()"
   ]
  }
 ],
 "metadata": {
  "kernelspec": {
   "display_name": "Python 3.9.12 ('base')",
   "language": "python",
   "name": "python3"
  },
  "language_info": {
   "codemirror_mode": {
    "name": "ipython",
    "version": 3
   },
   "file_extension": ".py",
   "mimetype": "text/x-python",
   "name": "python",
   "nbconvert_exporter": "python",
   "pygments_lexer": "ipython3",
   "version": "3.9.12"
  },
  "orig_nbformat": 4,
  "vscode": {
   "interpreter": {
    "hash": "99e0d39f7d3dbaf5b200d88aa2439617bbbdbaddd49696b359fe65b8094f80ec"
   }
  }
 },
 "nbformat": 4,
 "nbformat_minor": 2
}
