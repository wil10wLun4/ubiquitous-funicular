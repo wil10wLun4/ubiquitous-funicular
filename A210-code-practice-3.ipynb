{
 "cells": [
  {
   "cell_type": "markdown",
   "metadata": {},
   "source": [
    "# A2.10 - Code Practice III\n",
    ">\n",
    "> If Statements\n",
    ">"
   ]
  },
  {
   "cell_type": "code",
   "execution_count": 3,
   "metadata": {},
   "outputs": [
    {
     "name": "stdout",
     "output_type": "stream",
     "text": [
      "cooooool 8))))))\n"
     ]
    }
   ],
   "source": [
    "# Create an if statement with at least:\n",
    "# 1. declare a variable\n",
    "var = \"willow\"\n",
    "# 2. if statement\n",
    "if var == \"Jay\":\n",
    "    print(\"gae\")\n",
    "# 3. elif statement\n",
    "elif var == \"willow\":\n",
    "    print(\"cooooool 8))))))\")\n",
    "# 4. else statement\n",
    "else:\n",
    "    print(\"who dat\")"
   ]
  },
  {
   "cell_type": "code",
   "execution_count": 10,
   "metadata": {},
   "outputs": [
    {
     "name": "stdout",
     "output_type": "stream",
     "text": [
      "wow math\n",
      "sad\n",
      "yup\n",
      "I pulled a qiqi~\n"
     ]
    }
   ],
   "source": [
    "# Practice Below and Create at Least 4 if statments\n",
    "if 10 == 10:\n",
    "    print(\"wow math\")\n",
    "else:\n",
    "    print(\"not math >:(\")\n",
    "\n",
    "dct = {\"key1\": \"pog\", \"key2\": \"not pog\"}\n",
    "\n",
    "if dct[\"key2\"] == \"not pog\":\n",
    "    print(\"sad\")\n",
    "elif dct[\"key2\"] == \"pog\":\n",
    "    print(\"truee\")\n",
    "else:\n",
    "    pass\n",
    "\n",
    "Jay = \"gae\"\n",
    "\n",
    "if Jay == \"straight\":\n",
    "    print(\"hmmmm no\")\n",
    "elif Jay == \"gae\":\n",
    "    print(\"yup\")\n",
    "else:\n",
    "    print(\"pan?... bi?\")\n",
    "\n",
    "win5050 = False\n",
    "\n",
    "if win5050:\n",
    "    print(\"YAY!\")\n",
    "else:\n",
    "    print(\"I pulled a qiqi~\")"
   ]
  }
 ],
 "metadata": {
  "kernelspec": {
   "display_name": "Python 3.9.12 ('base')",
   "language": "python",
   "name": "python3"
  },
  "language_info": {
   "codemirror_mode": {
    "name": "ipython",
    "version": 3
   },
   "file_extension": ".py",
   "mimetype": "text/x-python",
   "name": "python",
   "nbconvert_exporter": "python",
   "pygments_lexer": "ipython3",
   "version": "3.9.12"
  },
  "orig_nbformat": 4,
  "vscode": {
   "interpreter": {
    "hash": "99e0d39f7d3dbaf5b200d88aa2439617bbbdbaddd49696b359fe65b8094f80ec"
   }
  }
 },
 "nbformat": 4,
 "nbformat_minor": 2
}
