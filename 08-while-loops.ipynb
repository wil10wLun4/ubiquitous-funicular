{
 "cells": [
  {
   "cell_type": "markdown",
   "metadata": {},
   "source": [
    "# 08 - While Loops\n",
    "> From W3Schools:\n",
    ">\n",
    "> \"With the `while` loop we can execute a set of statements as long as a condition is true.\""
   ]
  },
  {
   "cell_type": "markdown",
   "metadata": {},
   "source": [
    "### Video and Notes:\n",
    "> Video: https://www.youtube.com/watch?v=dHANJ4l6fwA\n",
    ">\n",
    "> Notes: https://www.w3schools.com/python/python_while_loops.asp"
   ]
  },
  {
   "cell_type": "markdown",
   "metadata": {},
   "source": [
    "## To Complete Your Notes:\n",
    "1. Watch the video.\n",
    "2. Review the Notes above.\n",
    "3. Copy the `while` loops from W3Schools below\n",
    "4. Create your own `while` loops below"
   ]
  },
  {
   "cell_type": "markdown",
   "metadata": {},
   "source": [
    "### 3. Copy the `while` loops from W3Schools below"
   ]
  },
  {
   "cell_type": "code",
   "execution_count": 1,
   "metadata": {},
   "outputs": [
    {
     "name": "stdout",
     "output_type": "stream",
     "text": [
      "In this loop, yo\n",
      "Out of the loop, again\n"
     ]
    }
   ],
   "source": [
    "# Example 1\n",
    "\n",
    "somebool = True\n",
    "\n",
    "while somebool:\n",
    "    print(\"In this loop, yo\")\n",
    "    somebool = False\n",
    "print(\"Out of the loop, again\")"
   ]
  },
  {
   "cell_type": "code",
   "execution_count": 3,
   "metadata": {},
   "outputs": [
    {
     "name": "stdout",
     "output_type": "stream",
     "text": [
      "7\n",
      "8\n",
      "9\n",
      "10\n",
      "11\n",
      "12\n",
      "13\n",
      "14\n"
     ]
    }
   ],
   "source": [
    "# The `while` loop\n",
    "x = 7\n",
    "while x < 15:\n",
    "    print(x)\n",
    "    x += 1\n"
   ]
  },
  {
   "cell_type": "code",
   "execution_count": 4,
   "metadata": {},
   "outputs": [
    {
     "name": "stdout",
     "output_type": "stream",
     "text": [
      "1\n",
      "2\n",
      "3\n"
     ]
    }
   ],
   "source": [
    "# The `break` statement\n",
    "i = 1\n",
    "while i < 5:\n",
    "    print(i)\n",
    "    if i == 3:\n",
    "        break\n",
    "    i += 1"
   ]
  },
  {
   "cell_type": "code",
   "execution_count": 5,
   "metadata": {},
   "outputs": [
    {
     "name": "stdout",
     "output_type": "stream",
     "text": [
      "1\n",
      "2\n",
      "4\n",
      "5\n",
      "6\n",
      "7\n"
     ]
    }
   ],
   "source": [
    "# The `continue` statement\n",
    "y = 0\n",
    "while y < 7:\n",
    "    y += 1\n",
    "    if y == 3:\n",
    "        continue\n",
    "    print(y)"
   ]
  },
  {
   "cell_type": "code",
   "execution_count": 6,
   "metadata": {},
   "outputs": [
    {
     "name": "stdout",
     "output_type": "stream",
     "text": [
      "1\n",
      "2\n",
      "3\n",
      "4\n",
      "5\n",
      "6\n",
      "t is toooooooo long L + Ratio\n"
     ]
    }
   ],
   "source": [
    "# The `else` statement\n",
    "t = 1\n",
    "while t < 7:\n",
    "    print(t)\n",
    "    t += 1\n",
    "else:\n",
    "    print(\"t is toooooooo long L + Ratio\")"
   ]
  },
  {
   "cell_type": "markdown",
   "metadata": {},
   "source": [
    "### 4. Create your own `while` loops below.\n",
    "> Please create your own `while` loops.\n",
    ">\n",
    "> Please create at least three different `while` loops.\n",
    ">\n",
    "> Try and use different techniques from this lesson and the lessons before."
   ]
  },
  {
   "cell_type": "code",
   "execution_count": 8,
   "metadata": {},
   "outputs": [
    {
     "name": "stdout",
     "output_type": "stream",
     "text": [
      "I am gay\n",
      "\n",
      "\n",
      "\n"
     ]
    }
   ],
   "source": [
    "# Example Loop\n",
    "count = 0\n",
    "mybool = True\n",
    "secrets = {}\n",
    "\n",
    "while mybool:\n",
    "    secrets[count] = input(\"Tell me a secret: \")\n",
    "    count += 1\n",
    "    if count > 3:\n",
    "        mybool = False\n",
    "\n",
    "for key in secrets:\n",
    "    print(secrets[key])"
   ]
  },
  {
   "cell_type": "code",
   "execution_count": 10,
   "metadata": {},
   "outputs": [
    {
     "name": "stdout",
     "output_type": "stream",
     "text": [
      "i knew it\n",
      "whaaa?\n"
     ]
    }
   ],
   "source": [
    "# First Loop\n",
    "jayisgay = True\n",
    "jayisstraight = False\n",
    "while jayisgay:\n",
    "    print(\"i knew it\")\n",
    "    if jayisgay == False:\n",
    "        jayisstraight = True\n",
    "    jayisgay = False\n",
    "    print(\"whaaa?\")\n",
    "\n"
   ]
  },
  {
   "cell_type": "code",
   "execution_count": 11,
   "metadata": {},
   "outputs": [
    {
     "name": "stdout",
     "output_type": "stream",
     "text": [
      "PUT UR GRIPPERS AWAY\n",
      "get ur dogs out shwaty\n"
     ]
    }
   ],
   "source": [
    "# Second Loop\n",
    "anielasDogsAreOut = True\n",
    "while anielasDogsAreOut:\n",
    "    print(\"PUT UR GRIPPERS AWAY\")\n",
    "    if anielasDogsAreOut:\n",
    "        anielasDogsAreOut = False\n",
    "else:\n",
    "    print(\"get ur dogs out shwaty\")"
   ]
  },
  {
   "cell_type": "code",
   "execution_count": 13,
   "metadata": {},
   "outputs": [
    {
     "name": "stdout",
     "output_type": "stream",
     "text": [
      "its true\n",
      "nah shawty\n"
     ]
    }
   ],
   "source": [
    "# Third Loop\n",
    "willow = \"COOL\"\n",
    "\n",
    "while willow == \"COOL\":\n",
    "    print(\"its true\")\n",
    "    willow = \"NOT COOL\"\n",
    "else:\n",
    "    print(\"nah shawty\")"
   ]
  },
  {
   "cell_type": "code",
   "execution_count": 27,
   "metadata": {},
   "outputs": [
    {
     "ename": "TypeError",
     "evalue": "'module' object is not callable",
     "output_type": "error",
     "traceback": [
      "\u001b[0;31m---------------------------------------------------------------------------\u001b[0m",
      "\u001b[0;31mTypeError\u001b[0m                                 Traceback (most recent call last)",
      "\u001b[1;32m/Users/willowegerton/Downloads/08-while-loops.ipynb Cell 15\u001b[0m in \u001b[0;36m<cell line: 7>\u001b[0;34m()\u001b[0m\n\u001b[1;32m      <a href='vscode-notebook-cell:/Users/willowegerton/Downloads/08-while-loops.ipynb#X20sZmlsZQ%3D%3D?line=4'>5</a>\u001b[0m \u001b[39mimport\u001b[39;00m \u001b[39mrandom\u001b[39;00m\n\u001b[1;32m      <a href='vscode-notebook-cell:/Users/willowegerton/Downloads/08-while-loops.ipynb#X20sZmlsZQ%3D%3D?line=5'>6</a>\u001b[0m loops \u001b[39m=\u001b[39m \u001b[39m0\u001b[39m\n\u001b[0;32m----> <a href='vscode-notebook-cell:/Users/willowegerton/Downloads/08-while-loops.ipynb#X20sZmlsZQ%3D%3D?line=6'>7</a>\u001b[0m \u001b[39mwhile\u001b[39;00m random() \u001b[39m!=\u001b[39m \u001b[39m0.7\u001b[39m:\n\u001b[1;32m      <a href='vscode-notebook-cell:/Users/willowegerton/Downloads/08-while-loops.ipynb#X20sZmlsZQ%3D%3D?line=7'>8</a>\u001b[0m     loops \u001b[39m+\u001b[39m\u001b[39m=\u001b[39m \u001b[39m1\u001b[39m\n\u001b[1;32m      <a href='vscode-notebook-cell:/Users/willowegerton/Downloads/08-while-loops.ipynb#X20sZmlsZQ%3D%3D?line=8'>9</a>\u001b[0m \u001b[39mprint\u001b[39m(loops)\n",
      "\u001b[0;31mTypeError\u001b[0m: 'module' object is not callable"
     ]
    }
   ],
   "source": [
    "\"\"\"For extra credit: try and create a `while` loop that uses the Random module\n",
    "to generate random numbers within a range of integers and breaks away when a certain\n",
    "integer is returned. Then print out the number of loops that occurred.\"\"\"\n",
    "\n",
    "import random\n",
    "loops = 0\n",
    "while random() != 0.7:\n",
    "    loops += 1\n",
    "print(loops)\n",
    "#I have no idea how use random but you can see where I am going with this"
   ]
  }
 ],
 "metadata": {
  "kernelspec": {
   "display_name": "Python 3.9.12 ('base')",
   "language": "python",
   "name": "python3"
  },
  "language_info": {
   "codemirror_mode": {
    "name": "ipython",
    "version": 3
   },
   "file_extension": ".py",
   "mimetype": "text/x-python",
   "name": "python",
   "nbconvert_exporter": "python",
   "pygments_lexer": "ipython3",
   "version": "3.9.12"
  },
  "orig_nbformat": 4,
  "vscode": {
   "interpreter": {
    "hash": "99e0d39f7d3dbaf5b200d88aa2439617bbbdbaddd49696b359fe65b8094f80ec"
   }
  }
 },
 "nbformat": 4,
 "nbformat_minor": 2
}
